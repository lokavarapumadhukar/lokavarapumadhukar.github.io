{
 "cells": [
  {
   "cell_type": "markdown",
   "id": "e6979b72",
   "metadata": {
    "papermill": {
     "duration": 0.005638,
     "end_time": "2024-10-03T18:56:59.296925",
     "exception": false,
     "start_time": "2024-10-03T18:56:59.291287",
     "status": "completed"
    },
    "tags": []
   },
   "source": [
    "## Import libraries and define parameters"
   ]
  },
  {
   "cell_type": "code",
   "execution_count": 1,
   "id": "7a3cc09c",
   "metadata": {
    "execution": {
     "iopub.execute_input": "2024-10-03T18:56:59.309097Z",
     "iopub.status.busy": "2024-10-03T18:56:59.308683Z",
     "iopub.status.idle": "2024-10-03T18:57:01.481195Z",
     "shell.execute_reply": "2024-10-03T18:57:01.480264Z"
    },
    "papermill": {
     "duration": 2.181537,
     "end_time": "2024-10-03T18:57:01.483762",
     "exception": false,
     "start_time": "2024-10-03T18:56:59.302225",
     "status": "completed"
    },
    "tags": []
   },
   "outputs": [],
   "source": [
    "import pandas as pd\n",
    "import numpy as np\n",
    "\n",
    "import matplotlib.pyplot as plt\n",
    "from   matplotlib import colors\n",
    "import seaborn as sns\n",
    "\n",
    "import json\n",
    "import os\n",
    "from pathlib import Path\n",
    "from glob import glob\n",
    "\n",
    "from subprocess import Popen, PIPE, STDOUT"
   ]
  },
  {
   "cell_type": "code",
   "execution_count": 2,
   "id": "fed47249",
   "metadata": {
    "execution": {
     "iopub.execute_input": "2024-10-03T18:57:01.496314Z",
     "iopub.status.busy": "2024-10-03T18:57:01.495806Z",
     "iopub.status.idle": "2024-10-03T18:57:01.501464Z",
     "shell.execute_reply": "2024-10-03T18:57:01.500311Z"
    },
    "papermill": {
     "duration": 0.01423,
     "end_time": "2024-10-03T18:57:01.503697",
     "exception": false,
     "start_time": "2024-10-03T18:57:01.489467",
     "status": "completed"
    },
    "tags": []
   },
   "outputs": [],
   "source": [
    "base_path='/kaggle/input/arc-prize-2024/'\n",
    "# Loading JSON data\n",
    "def load_json(file_path):\n",
    "    with open(file_path) as f:\n",
    "        data = json.load(f)\n",
    "    return data"
   ]
  },
  {
   "cell_type": "markdown",
   "id": "28b945d1",
   "metadata": {
    "papermill": {
     "duration": 0.004933,
     "end_time": "2024-10-03T18:57:01.513886",
     "exception": false,
     "start_time": "2024-10-03T18:57:01.508953",
     "status": "completed"
    },
    "tags": []
   },
   "source": [
    "Reading files:"
   ]
  },
  {
   "cell_type": "code",
   "execution_count": 3,
   "id": "63ff1eb2",
   "metadata": {
    "execution": {
     "iopub.execute_input": "2024-10-03T18:57:01.526239Z",
     "iopub.status.busy": "2024-10-03T18:57:01.525299Z",
     "iopub.status.idle": "2024-10-03T18:57:01.838957Z",
     "shell.execute_reply": "2024-10-03T18:57:01.837843Z"
    },
    "papermill": {
     "duration": 0.322492,
     "end_time": "2024-10-03T18:57:01.841544",
     "exception": false,
     "start_time": "2024-10-03T18:57:01.519052",
     "status": "completed"
    },
    "tags": []
   },
   "outputs": [],
   "source": [
    "training_challenges   = load_json(base_path +'arc-agi_training_challenges.json')\n",
    "training_solutions    = load_json(base_path +'arc-agi_training_solutions.json')\n",
    "\n",
    "evaluation_challenges = load_json(base_path +'arc-agi_evaluation_challenges.json')\n",
    "evaluation_solutions  = load_json(base_path +'arc-agi_evaluation_solutions.json')\n",
    "\n",
    "test_challenges       = load_json(base_path +'arc-agi_test_challenges.json')"
   ]
  },
  {
   "cell_type": "markdown",
   "id": "e56f985a",
   "metadata": {
    "papermill": {
     "duration": 0.004861,
     "end_time": "2024-10-03T18:57:01.852100",
     "exception": false,
     "start_time": "2024-10-03T18:57:01.847239",
     "status": "completed"
    },
    "tags": []
   },
   "source": [
    "### Function to plot input/output pairs of a task"
   ]
  },
  {
   "cell_type": "code",
   "execution_count": 4,
   "id": "6c35a5aa",
   "metadata": {
    "execution": {
     "iopub.execute_input": "2024-10-03T18:57:01.864131Z",
     "iopub.status.busy": "2024-10-03T18:57:01.863488Z",
     "iopub.status.idle": "2024-10-03T18:57:02.112413Z",
     "shell.execute_reply": "2024-10-03T18:57:02.111214Z"
    },
    "papermill": {
     "duration": 0.257726,
     "end_time": "2024-10-03T18:57:02.114909",
     "exception": false,
     "start_time": "2024-10-03T18:57:01.857183",
     "status": "completed"
    },
    "tags": []
   },
   "outputs": [
    {
     "data": {
      "image/png": "[encoded data removed]",
      "text/plain": [
       "<Figure size 450x150 with 1 Axes>"
      ]
     },
     "metadata": {},
     "output_type": "display_data"
    }
   ],
   "source": [
    "# 0:black, 1:blue, 2:red, 3:green, 4:yellow, # 5:gray, 6:magenta, 7:orange, 8:sky, 9:brown\n",
    "\n",
    "cmap = colors.ListedColormap(\n",
    "    ['#000000', '#0074D9', '#FF4136', '#2ECC40', '#FFDC00',\n",
    "     '#AAAAAA', '#F012BE', '#FF851B', '#7FDBFF', '#870C25'])\n",
    "norm = colors.Normalize(vmin=0, vmax=9)\n",
    "\n",
    "plt.figure(figsize=(3, 1), dpi=150)\n",
    "plt.imshow([list(range(10))], cmap=cmap, norm=norm)\n",
    "plt.xticks(list(range(10)))\n",
    "plt.yticks([])\n",
    "plt.show()"
   ]
  },
  {
   "cell_type": "code",
   "execution_count": 5,
   "id": "0234231d",
   "metadata": {
    "execution": {
     "iopub.execute_input": "2024-10-03T18:57:02.135359Z",
     "iopub.status.busy": "2024-10-03T18:57:02.134832Z",
     "iopub.status.idle": "2024-10-03T18:57:02.159386Z",
     "shell.execute_reply": "2024-10-03T18:57:02.158090Z"
    },
    "papermill": {
     "duration": 0.037947,
     "end_time": "2024-10-03T18:57:02.161838",
     "exception": false,
     "start_time": "2024-10-03T18:57:02.123891",
     "status": "completed"
    },
    "tags": []
   },
   "outputs": [],
   "source": [
    "def plot_task(task, task_solutions, i, t):\n",
    "    \"\"\"    Plots the first train and test pairs of a specified task,\n",
    "    using same color scheme as the ARC app    \"\"\"    \n",
    "    \n",
    "    num_train = len(task['train'])\n",
    "    num_test  = len(task['test'])\n",
    "    \n",
    "    w=num_train+num_test\n",
    "    fig, axs  = plt.subplots(2, w, figsize=(3*w ,3*2))\n",
    "    plt.suptitle(f'Set #{i}, {t}:', fontsize=20, fontweight='bold', y=1)\n",
    "    #plt.subplots_adjust(hspace = 0.15)\n",
    "    #plt.subplots_adjust(wspace=20, hspace=20)\n",
    "    \n",
    "    for j in range(num_train):     \n",
    "        plot_one(axs[0, j], j,'train', 'input')\n",
    "        plot_one(axs[1, j], j,'train', 'output')        \n",
    "    \n",
    "    \n",
    "    plot_one(axs[0, j+1], 0, 'test', 'input')\n",
    "\n",
    "\n",
    "    answer = task_solutions\n",
    "    input_matrix = answer\n",
    "    \n",
    "    axs[1, j+1].imshow(input_matrix, cmap=cmap, norm=norm)\n",
    "    axs[1, j+1].grid(True, which = 'both',color = 'lightgrey', linewidth = 0.5)\n",
    "    axs[1, j+1].set_yticks([x-0.5 for x in range(1 + len(input_matrix))])\n",
    "    axs[1, j+1].set_xticks([x-0.5 for x in range(1 + len(input_matrix[0]))])     \n",
    "    axs[1, j+1].set_xticklabels([])\n",
    "    axs[1, j+1].set_yticklabels([])\n",
    "    axs[1, j+1].set_title('Test output')\n",
    "\n",
    "    axs[1, j+1] = plt.figure(1).add_subplot(111)\n",
    "    axs[1, j+1].set_xlim([0, num_train+1])\n",
    "    \n",
    "    for m in range(1, num_train):\n",
    "        axs[1, j+1].plot([m,m],[0,1],'--', linewidth=1, color = 'black')\n",
    "    \n",
    "    axs[1, j+1].plot([num_train,num_train],[0,1],'-', linewidth=3, color = 'black')\n",
    "\n",
    "    axs[1, j+1].axis(\"off\")\n",
    "\n",
    "    fig.patch.set_linewidth(5)\n",
    "    fig.patch.set_edgecolor('black') \n",
    "    fig.patch.set_facecolor('#dddddd')\n",
    "   \n",
    "    plt.tight_layout()\n",
    "    \n",
    "    print(f'#{i}, {t}') # for fast and convinience search\n",
    "    plt.show()  \n",
    "    \n",
    "    print()\n",
    "    print()\n",
    "    \n",
    "    \n",
    "def plot_one(ax, i, train_or_test, input_or_output):\n",
    "    input_matrix = task[train_or_test][i][input_or_output]\n",
    "    ax.imshow(input_matrix, cmap=cmap, norm=norm)\n",
    "    ax.grid(True, which = 'both',color = 'lightgrey', linewidth = 0.5)\n",
    "    \n",
    "    plt.setp(plt.gcf().get_axes(), xticklabels=[], yticklabels=[])\n",
    "    ax.set_xticks([x-0.5 for x in range(1 + len(input_matrix[0]))])     \n",
    "    ax.set_yticks([x-0.5 for x in range(1 + len(input_matrix))])\n",
    "    \n",
    "    ax.set_title(train_or_test + ' ' + input_or_output)\n"
   ]
  },
  {
   "cell_type": "markdown",
   "id": "e26d8187",
   "metadata": {
    "papermill": {
     "duration": 0.005209,
     "end_time": "2024-10-03T18:57:02.172489",
     "exception": false,
     "start_time": "2024-10-03T18:57:02.167280",
     "status": "completed"
    },
    "tags": []
   },
   "source": [
    "# <div  style=\"color:white; border:lightgreen solid;  font-weight:bold; font-size:120%; text-align:center;padding:12.0px; background:black\">2. VISUALIZATION TRAINING SET</div>"
   ]
  },
  {
   "cell_type": "markdown",
   "id": "9d7d4fc9",
   "metadata": {
    "papermill": {
     "duration": 0.005079,
     "end_time": "2024-10-03T18:57:02.183022",
     "exception": false,
     "start_time": "2024-10-03T18:57:02.177943",
     "status": "completed"
    },
    "tags": []
   },
   "source": [
    "# 000-050 tasks"
   ]
  },
  {
   "cell_type": "code",
   "execution_count": 6,
   "id": "dc8b45b7",
   "metadata": {
    "execution": {
     "iopub.execute_input": "2024-10-03T18:57:02.195418Z",
     "iopub.status.busy": "2024-10-03T18:57:02.195034Z",
     "iopub.status.idle": "2024-10-03T18:57:03.673939Z",
     "shell.execute_reply": "2024-10-03T18:57:03.670099Z"
    },
    "papermill": {
     "duration": 1.488965,
     "end_time": "2024-10-03T18:57:03.677362",
     "exception": false,
     "start_time": "2024-10-03T18:57:02.188397",
     "status": "completed"
    },
    "tags": []
   },
   "outputs": [
    {
     "name": "stdout",
     "output_type": "stream",
     "text": [
      "#0, 007bbfb7\n"
     ]
    },
    {
     "data": {
      "image/png": "[encoded data removed]",
      "text/plain": [
       "<Figure size 1800x600 with 13 Axes>"
      ]
     },
     "metadata": {},
     "output_type": "display_data"
    },
    {
     "name": "stdout",
     "output_type": "stream",
     "text": [
      "\n",
      "\n"
     ]
    }
   ],
   "source": [
    "for i in range(1):\n",
    "    t=list(training_challenges)[i]\n",
    "    task=training_challenges[t]\n",
    "    task_solution = training_solutions[t][0]\n",
    "    plot_task(task,  task_solution, i, t)"
   ]
  },
  {
   "cell_type": "code",
   "execution_count": 7,
   "id": "2f43dcfa",
   "metadata": {
    "execution": {
     "iopub.execute_input": "2024-10-03T18:57:03.691196Z",
     "iopub.status.busy": "2024-10-03T18:57:03.690813Z",
     "iopub.status.idle": "2024-10-03T18:57:03.696018Z",
     "shell.execute_reply": "2024-10-03T18:57:03.695037Z"
    },
    "papermill": {
     "duration": 0.014936,
     "end_time": "2024-10-03T18:57:03.698354",
     "exception": false,
     "start_time": "2024-10-03T18:57:03.683418",
     "status": "completed"
    },
    "tags": []
   },
   "outputs": [],
   "source": [
    "def draw_task(i):\n",
    "    t=list(training_challenges)[i]\n",
    "    task=training_challenges[t]\n",
    "    task_solution = training_solutions[t][0]\n",
    "    plot_task(task,  task_solution, i, t)"
   ]
  },
  {
   "cell_type": "markdown",
   "id": "23f30572",
   "metadata": {
    "papermill": {
     "duration": 0.005799,
     "end_time": "2024-10-03T18:57:03.710471",
     "exception": false,
     "start_time": "2024-10-03T18:57:03.704672",
     "status": "completed"
    },
    "tags": []
   },
   "source": [
    "## To be continued)"
   ]
  },
  {
   "cell_type": "code",
   "execution_count": 8,
   "id": "839329c5",
   "metadata": {
    "execution": {
     "iopub.execute_input": "2024-10-03T18:57:03.724335Z",
     "iopub.status.busy": "2024-10-03T18:57:03.723949Z",
     "iopub.status.idle": "2024-10-03T18:57:03.728385Z",
     "shell.execute_reply": "2024-10-03T18:57:03.727310Z"
    },
    "papermill": {
     "duration": 0.013852,
     "end_time": "2024-10-03T18:57:03.730444",
     "exception": false,
     "start_time": "2024-10-03T18:57:03.716592",
     "status": "completed"
    },
    "tags": []
   },
   "outputs": [],
   "source": [
    "# I want to get the github package of generating data to work here "
   ]
  },
  {
   "cell_type": "code",
   "execution_count": 9,
   "id": "8632de21",
   "metadata": {
    "execution": {
     "iopub.execute_input": "2024-10-03T18:57:03.746187Z",
     "iopub.status.busy": "2024-10-03T18:57:03.745765Z",
     "iopub.status.idle": "2024-10-03T18:57:03.750562Z",
     "shell.execute_reply": "2024-10-03T18:57:03.749493Z"
    },
    "papermill": {
     "duration": 0.016795,
     "end_time": "2024-10-03T18:57:03.753617",
     "exception": false,
     "start_time": "2024-10-03T18:57:03.736822",
     "status": "completed"
    },
    "tags": []
   },
   "outputs": [],
   "source": [
    "# Getting a simple model to work and a basecase as fast as I can "
   ]
  },
  {
   "cell_type": "code",
   "execution_count": 10,
   "id": "9dbbd6da",
   "metadata": {
    "execution": {
     "iopub.execute_input": "2024-10-03T18:57:03.773157Z",
     "iopub.status.busy": "2024-10-03T18:57:03.772045Z",
     "iopub.status.idle": "2024-10-03T18:57:05.528171Z",
     "shell.execute_reply": "2024-10-03T18:57:05.527105Z"
    },
    "papermill": {
     "duration": 1.769645,
     "end_time": "2024-10-03T18:57:05.531705",
     "exception": false,
     "start_time": "2024-10-03T18:57:03.762060",
     "status": "completed"
    },
    "tags": []
   },
   "outputs": [
    {
     "name": "stdout",
     "output_type": "stream",
     "text": [
      "#1, 00d62c1b\n"
     ]
    },
    {
     "data": {
      "image/png": "[encoded data removed]",
      "text/plain": [
       "<Figure size 1800x600 with 13 Axes>"
      ]
     },
     "metadata": {},
     "output_type": "display_data"
    },
    {
     "name": "stdout",
     "output_type": "stream",
     "text": [
      "\n",
      "\n"
     ]
    }
   ],
   "source": [
    "draw_task(1)"
   ]
  },
  {
   "cell_type": "code",
   "execution_count": 11,
   "id": "4c4298af",
   "metadata": {
    "execution": {
     "iopub.execute_input": "2024-10-03T18:57:05.547238Z",
     "iopub.status.busy": "2024-10-03T18:57:05.546861Z",
     "iopub.status.idle": "2024-10-03T18:57:05.686565Z",
     "shell.execute_reply": "2024-10-03T18:57:05.685328Z"
    },
    "papermill": {
     "duration": 0.150156,
     "end_time": "2024-10-03T18:57:05.688829",
     "exception": false,
     "start_time": "2024-10-03T18:57:05.538673",
     "status": "completed"
    },
    "tags": []
   },
   "outputs": [
    {
     "data": {
      "text/html": [
       "<div>\n",
       "<style scoped>\n",
       "    .dataframe tbody tr th:only-of-type {\n",
       "        vertical-align: middle;\n",
       "    }\n",
       "\n",
       "    .dataframe tbody tr th {\n",
       "        vertical-align: top;\n",
       "    }\n",
       "\n",
       "    .dataframe thead th {\n",
       "        text-align: right;\n",
       "    }\n",
       "</style>\n",
       "<table border=\"1\" class=\"dataframe\">\n",
       "  <thead>\n",
       "    <tr style=\"text-align: right;\">\n",
       "      <th></th>\n",
       "      <th>007bbfb7</th>\n",
       "      <th>00d62c1b</th>\n",
       "      <th>017c7c7b</th>\n",
       "      <th>025d127b</th>\n",
       "      <th>045e512c</th>\n",
       "      <th>0520fde7</th>\n",
       "      <th>05269061</th>\n",
       "      <th>05f2a901</th>\n",
       "      <th>06df4c85</th>\n",
       "      <th>08ed6ac7</th>\n",
       "      <th>...</th>\n",
       "      <th>f8b3ba0a</th>\n",
       "      <th>f8c80d96</th>\n",
       "      <th>f8ff0b80</th>\n",
       "      <th>f9012d9b</th>\n",
       "      <th>fafffa47</th>\n",
       "      <th>fcb5c309</th>\n",
       "      <th>fcc82909</th>\n",
       "      <th>feca6190</th>\n",
       "      <th>ff28f65a</th>\n",
       "      <th>ff805c23</th>\n",
       "    </tr>\n",
       "  </thead>\n",
       "  <tbody>\n",
       "    <tr>\n",
       "      <th>test</th>\n",
       "      <td>[{'input': [[7, 0, 7], [7, 0, 7], [7, 7, 0]]}]</td>\n",
       "      <td>[{'input': [[0, 0, 0, 0, 0, 0, 0, 0, 0, 0, 0, ...</td>\n",
       "      <td>[{'input': [[1, 1, 1], [0, 1, 0], [0, 1, 0], [...</td>\n",
       "      <td>[{'input': [[0, 0, 0, 0, 0, 0, 0, 0, 0, 0], [0...</td>\n",
       "      <td>[{'input': [[0, 0, 0, 0, 0, 0, 0, 0, 0, 0, 0, ...</td>\n",
       "      <td>[{'input': [[1, 0, 1, 5, 1, 0, 1], [0, 1, 0, 5...</td>\n",
       "      <td>[{'input': [[0, 1, 0, 0, 0, 0, 2], [1, 0, 0, 0...</td>\n",
       "      <td>[{'input': [[0, 0, 0, 0, 0, 0, 0, 0, 0, 0], [0...</td>\n",
       "      <td>[{'input': [[0, 0, 4, 0, 0, 4, 0, 0, 4, 0, 0, ...</td>\n",
       "      <td>[{'input': [[0, 0, 0, 0, 0, 0, 0, 0, 0], [0, 5...</td>\n",
       "      <td>...</td>\n",
       "      <td>[{'input': [[0, 0, 0, 0, 0, 0, 0, 0, 0, 0, 0, ...</td>\n",
       "      <td>[{'input': [[4, 4, 4, 4, 4, 4, 0, 0, 0, 0], [0...</td>\n",
       "      <td>[{'input': [[0, 0, 0, 0, 0, 0, 0, 0, 0, 0, 0, ...</td>\n",
       "      <td>[{'input': [[8, 1, 8, 8, 0, 0, 0], [1, 8, 8, 1...</td>\n",
       "      <td>[{'input': [[9, 0, 9], [0, 0, 9], [9, 0, 9], [...</td>\n",
       "      <td>[{'input': [[0, 0, 0, 0, 0, 0, 0, 0, 0, 0, 0, ...</td>\n",
       "      <td>[{'input': [[0, 0, 0, 0, 0, 0, 0, 0, 0, 0], [1...</td>\n",
       "      <td>[{'input': [[0, 6, 7, 8, 9]]}]</td>\n",
       "      <td>[{'input': [[0, 0, 0, 2, 2, 0], [2, 2, 0, 2, 2...</td>\n",
       "      <td>[{'input': [[4, 4, 4, 0, 4, 0, 0, 3, 3, 3, 0, ...</td>\n",
       "    </tr>\n",
       "    <tr>\n",
       "      <th>train</th>\n",
       "      <td>[{'input': [[0, 7, 7], [7, 7, 7], [0, 7, 7]], ...</td>\n",
       "      <td>[{'input': [[0, 0, 0, 0, 0, 0], [0, 0, 3, 0, 0...</td>\n",
       "      <td>[{'input': [[0, 1, 0], [1, 1, 0], [0, 1, 0], [...</td>\n",
       "      <td>[{'input': [[0, 0, 0, 0, 0, 0, 0, 0, 0], [0, 6...</td>\n",
       "      <td>[{'input': [[0, 0, 0, 0, 0, 0, 0, 0, 0, 0, 0, ...</td>\n",
       "      <td>[{'input': [[1, 0, 0, 5, 0, 1, 0], [0, 1, 0, 5...</td>\n",
       "      <td>[{'input': [[2, 8, 3, 0, 0, 0, 0], [8, 3, 0, 0...</td>\n",
       "      <td>[{'input': [[0, 0, 0, 0, 0, 0, 0, 0, 0], [0, 0...</td>\n",
       "      <td>[{'input': [[0, 0, 8, 0, 0, 8, 0, 0, 8, 0, 0, ...</td>\n",
       "      <td>[{'input': [[0, 0, 0, 0, 0, 5, 0, 0, 0], [0, 5...</td>\n",
       "      <td>...</td>\n",
       "      <td>[{'input': [[0, 0, 0, 0, 0, 0, 0, 0, 0, 0, 0, ...</td>\n",
       "      <td>[{'input': [[0, 0, 0, 0, 0, 0, 0, 0, 0, 0], [0...</td>\n",
       "      <td>[{'input': [[0, 0, 0, 0, 0, 0, 0, 0, 0, 0, 0, ...</td>\n",
       "      <td>[{'input': [[2, 1, 2, 1, 2], [1, 1, 1, 1, 1], ...</td>\n",
       "      <td>[{'input': [[0, 9, 9], [0, 9, 9], [9, 9, 9], [...</td>\n",
       "      <td>[{'input': [[0, 0, 0, 0, 4, 0, 0, 0, 0, 0, 0, ...</td>\n",
       "      <td>[{'input': [[0, 0, 0, 0, 0, 0, 0, 0, 0, 0], [0...</td>\n",
       "      <td>[{'input': [[1, 0, 7, 0, 0]], 'output': [[0, 0...</td>\n",
       "      <td>[{'input': [[2, 2, 0, 0, 0], [2, 2, 0, 0, 0], ...</td>\n",
       "      <td>[{'input': [[0, 3, 3, 3, 3, 0, 0, 2, 2, 2, 0, ...</td>\n",
       "    </tr>\n",
       "  </tbody>\n",
       "</table>\n",
       "<p>2 rows × 400 columns</p>\n",
       "</div>"
      ],
      "text/plain": [
       "                                                007bbfb7  \\\n",
       "test      [{'input': [[7, 0, 7], [7, 0, 7], [7, 7, 0]]}]   \n",
       "train  [{'input': [[0, 7, 7], [7, 7, 7], [0, 7, 7]], ...   \n",
       "\n",
       "                                                00d62c1b  \\\n",
       "test   [{'input': [[0, 0, 0, 0, 0, 0, 0, 0, 0, 0, 0, ...   \n",
       "train  [{'input': [[0, 0, 0, 0, 0, 0], [0, 0, 3, 0, 0...   \n",
       "\n",
       "                                                017c7c7b  \\\n",
       "test   [{'input': [[1, 1, 1], [0, 1, 0], [0, 1, 0], [...   \n",
       "train  [{'input': [[0, 1, 0], [1, 1, 0], [0, 1, 0], [...   \n",
       "\n",
       "                                                025d127b  \\\n",
       "test   [{'input': [[0, 0, 0, 0, 0, 0, 0, 0, 0, 0], [0...   \n",
       "train  [{'input': [[0, 0, 0, 0, 0, 0, 0, 0, 0], [0, 6...   \n",
       "\n",
       "                                                045e512c  \\\n",
       "test   [{'input': [[0, 0, 0, 0, 0, 0, 0, 0, 0, 0, 0, ...   \n",
       "train  [{'input': [[0, 0, 0, 0, 0, 0, 0, 0, 0, 0, 0, ...   \n",
       "\n",
       "                                                0520fde7  \\\n",
       "test   [{'input': [[1, 0, 1, 5, 1, 0, 1], [0, 1, 0, 5...   \n",
       "train  [{'input': [[1, 0, 0, 5, 0, 1, 0], [0, 1, 0, 5...   \n",
       "\n",
       "                                                05269061  \\\n",
       "test   [{'input': [[0, 1, 0, 0, 0, 0, 2], [1, 0, 0, 0...   \n",
       "train  [{'input': [[2, 8, 3, 0, 0, 0, 0], [8, 3, 0, 0...   \n",
       "\n",
       "                                                05f2a901  \\\n",
       "test   [{'input': [[0, 0, 0, 0, 0, 0, 0, 0, 0, 0], [0...   \n",
       "train  [{'input': [[0, 0, 0, 0, 0, 0, 0, 0, 0], [0, 0...   \n",
       "\n",
       "                                                06df4c85  \\\n",
       "test   [{'input': [[0, 0, 4, 0, 0, 4, 0, 0, 4, 0, 0, ...   \n",
       "train  [{'input': [[0, 0, 8, 0, 0, 8, 0, 0, 8, 0, 0, ...   \n",
       "\n",
       "                                                08ed6ac7  ...  \\\n",
       "test   [{'input': [[0, 0, 0, 0, 0, 0, 0, 0, 0], [0, 5...  ...   \n",
       "train  [{'input': [[0, 0, 0, 0, 0, 5, 0, 0, 0], [0, 5...  ...   \n",
       "\n",
       "                                                f8b3ba0a  \\\n",
       "test   [{'input': [[0, 0, 0, 0, 0, 0, 0, 0, 0, 0, 0, ...   \n",
       "train  [{'input': [[0, 0, 0, 0, 0, 0, 0, 0, 0, 0, 0, ...   \n",
       "\n",
       "                                                f8c80d96  \\\n",
       "test   [{'input': [[4, 4, 4, 4, 4, 4, 0, 0, 0, 0], [0...   \n",
       "train  [{'input': [[0, 0, 0, 0, 0, 0, 0, 0, 0, 0], [0...   \n",
       "\n",
       "                                                f8ff0b80  \\\n",
       "test   [{'input': [[0, 0, 0, 0, 0, 0, 0, 0, 0, 0, 0, ...   \n",
       "train  [{'input': [[0, 0, 0, 0, 0, 0, 0, 0, 0, 0, 0, ...   \n",
       "\n",
       "                                                f9012d9b  \\\n",
       "test   [{'input': [[8, 1, 8, 8, 0, 0, 0], [1, 8, 8, 1...   \n",
       "train  [{'input': [[2, 1, 2, 1, 2], [1, 1, 1, 1, 1], ...   \n",
       "\n",
       "                                                fafffa47  \\\n",
       "test   [{'input': [[9, 0, 9], [0, 0, 9], [9, 0, 9], [...   \n",
       "train  [{'input': [[0, 9, 9], [0, 9, 9], [9, 9, 9], [...   \n",
       "\n",
       "                                                fcb5c309  \\\n",
       "test   [{'input': [[0, 0, 0, 0, 0, 0, 0, 0, 0, 0, 0, ...   \n",
       "train  [{'input': [[0, 0, 0, 0, 4, 0, 0, 0, 0, 0, 0, ...   \n",
       "\n",
       "                                                fcc82909  \\\n",
       "test   [{'input': [[0, 0, 0, 0, 0, 0, 0, 0, 0, 0], [1...   \n",
       "train  [{'input': [[0, 0, 0, 0, 0, 0, 0, 0, 0, 0], [0...   \n",
       "\n",
       "                                                feca6190  \\\n",
       "test                      [{'input': [[0, 6, 7, 8, 9]]}]   \n",
       "train  [{'input': [[1, 0, 7, 0, 0]], 'output': [[0, 0...   \n",
       "\n",
       "                                                ff28f65a  \\\n",
       "test   [{'input': [[0, 0, 0, 2, 2, 0], [2, 2, 0, 2, 2...   \n",
       "train  [{'input': [[2, 2, 0, 0, 0], [2, 2, 0, 0, 0], ...   \n",
       "\n",
       "                                                ff805c23  \n",
       "test   [{'input': [[4, 4, 4, 0, 4, 0, 0, 3, 3, 3, 0, ...  \n",
       "train  [{'input': [[0, 3, 3, 3, 3, 0, 0, 2, 2, 2, 0, ...  \n",
       "\n",
       "[2 rows x 400 columns]"
      ]
     },
     "execution_count": 11,
     "metadata": {},
     "output_type": "execute_result"
    }
   ],
   "source": [
    "p = pd.DataFrame(training_challenges)\n",
    "p"
   ]
  },
  {
   "cell_type": "code",
   "execution_count": 12,
   "id": "7dbfffe8",
   "metadata": {
    "execution": {
     "iopub.execute_input": "2024-10-03T18:57:05.705664Z",
     "iopub.status.busy": "2024-10-03T18:57:05.705309Z",
     "iopub.status.idle": "2024-10-03T18:57:05.709669Z",
     "shell.execute_reply": "2024-10-03T18:57:05.708692Z"
    },
    "papermill": {
     "duration": 0.015276,
     "end_time": "2024-10-03T18:57:05.711937",
     "exception": false,
     "start_time": "2024-10-03T18:57:05.696661",
     "status": "completed"
    },
    "tags": []
   },
   "outputs": [],
   "source": [
    "# Each ARC set has the some structure:\n",
    "\n",
    "# Name of task\n",
    "# └── Train/test\n",
    "#    └── Number of instance\n",
    "#      └── Input/ouput"
   ]
  },
  {
   "cell_type": "code",
   "execution_count": 13,
   "id": "d3a89110",
   "metadata": {
    "execution": {
     "iopub.execute_input": "2024-10-03T18:57:05.728140Z",
     "iopub.status.busy": "2024-10-03T18:57:05.727798Z",
     "iopub.status.idle": "2024-10-03T18:57:05.737420Z",
     "shell.execute_reply": "2024-10-03T18:57:05.736404Z"
    },
    "papermill": {
     "duration": 0.02084,
     "end_time": "2024-10-03T18:57:05.740116",
     "exception": false,
     "start_time": "2024-10-03T18:57:05.719276",
     "status": "completed"
    },
    "tags": []
   },
   "outputs": [
    {
     "name": "stdout",
     "output_type": "stream",
     "text": [
      "{'test': [{'input': [[7, 0, 7], [7, 0, 7], [7, 7, 0]]}],\n",
      " 'train': [{'input': [[0, 7, 7], [7, 7, 7], [0, 7, 7]],\n",
      "            'output': [[0, 0, 0, 0, 7, 7, 0, 7, 7],\n",
      "                       [0, 0, 0, 7, 7, 7, 7, 7, 7],\n",
      "                       [0, 0, 0, 0, 7, 7, 0, 7, 7],\n",
      "                       [0, 7, 7, 0, 7, 7, 0, 7, 7],\n",
      "                       [7, 7, 7, 7, 7, 7, 7, 7, 7],\n",
      "                       [0, 7, 7, 0, 7, 7, 0, 7, 7],\n",
      "                       [0, 0, 0, 0, 7, 7, 0, 7, 7],\n",
      "                       [0, 0, 0, 7, 7, 7, 7, 7, 7],\n",
      "                       [0, 0, 0, 0, 7, 7, 0, 7, 7]]},\n",
      "           {'input': [[4, 0, 4], [0, 0, 0], [0, 4, 0]],\n",
      "            'output': [[4, 0, 4, 0, 0, 0, 4, 0, 4],\n",
      "                       [0, 0, 0, 0, 0, 0, 0, 0, 0],\n",
      "                       [0, 4, 0, 0, 0, 0, 0, 4, 0],\n",
      "                       [0, 0, 0, 0, 0, 0, 0, 0, 0],\n",
      "                       [0, 0, 0, 0, 0, 0, 0, 0, 0],\n",
      "                       [0, 0, 0, 0, 0, 0, 0, 0, 0],\n",
      "                       [0, 0, 0, 4, 0, 4, 0, 0, 0],\n",
      "                       [0, 0, 0, 0, 0, 0, 0, 0, 0],\n",
      "                       [0, 0, 0, 0, 4, 0, 0, 0, 0]]},\n",
      "           {'input': [[0, 0, 0], [0, 0, 2], [2, 0, 2]],\n",
      "            'output': [[0, 0, 0, 0, 0, 0, 0, 0, 0],\n",
      "                       [0, 0, 0, 0, 0, 0, 0, 0, 0],\n",
      "                       [0, 0, 0, 0, 0, 0, 0, 0, 0],\n",
      "                       [0, 0, 0, 0, 0, 0, 0, 0, 0],\n",
      "                       [0, 0, 0, 0, 0, 0, 0, 0, 2],\n",
      "                       [0, 0, 0, 0, 0, 0, 2, 0, 2],\n",
      "                       [0, 0, 0, 0, 0, 0, 0, 0, 0],\n",
      "                       [0, 0, 2, 0, 0, 0, 0, 0, 2],\n",
      "                       [2, 0, 2, 0, 0, 0, 2, 0, 2]]},\n",
      "           {'input': [[6, 6, 0], [6, 0, 0], [0, 6, 6]],\n",
      "            'output': [[6, 6, 0, 6, 6, 0, 0, 0, 0],\n",
      "                       [6, 0, 0, 6, 0, 0, 0, 0, 0],\n",
      "                       [0, 6, 6, 0, 6, 6, 0, 0, 0],\n",
      "                       [6, 6, 0, 0, 0, 0, 0, 0, 0],\n",
      "                       [6, 0, 0, 0, 0, 0, 0, 0, 0],\n",
      "                       [0, 6, 6, 0, 0, 0, 0, 0, 0],\n",
      "                       [0, 0, 0, 6, 6, 0, 6, 6, 0],\n",
      "                       [0, 0, 0, 6, 0, 0, 6, 0, 0],\n",
      "                       [0, 0, 0, 0, 6, 6, 0, 6, 6]]},\n",
      "           {'input': [[2, 2, 2], [0, 0, 0], [0, 2, 2]],\n",
      "            'output': [[2, 2, 2, 2, 2, 2, 2, 2, 2],\n",
      "                       [0, 0, 0, 0, 0, 0, 0, 0, 0],\n",
      "                       [0, 2, 2, 0, 2, 2, 0, 2, 2],\n",
      "                       [0, 0, 0, 0, 0, 0, 0, 0, 0],\n",
      "                       [0, 0, 0, 0, 0, 0, 0, 0, 0],\n",
      "                       [0, 0, 0, 0, 0, 0, 0, 0, 0],\n",
      "                       [0, 0, 0, 2, 2, 2, 2, 2, 2],\n",
      "                       [0, 0, 0, 0, 0, 0, 0, 0, 0],\n",
      "                       [0, 0, 0, 0, 2, 2, 0, 2, 2]]}]}\n"
     ]
    }
   ],
   "source": [
    "task = training_challenges['007bbfb7']\n",
    "import pprint \n",
    "pp = pprint.PrettyPrinter(indent=1)\n",
    "pp.pprint(task)\n",
    "\n"
   ]
  },
  {
   "cell_type": "markdown",
   "id": "f30fba4f",
   "metadata": {
    "papermill": {
     "duration": 0.007265,
     "end_time": "2024-10-03T18:57:05.755044",
     "exception": false,
     "start_time": "2024-10-03T18:57:05.747779",
     "status": "completed"
    },
    "tags": []
   },
   "source": [
    "As demonstrated above each input has in the training sets their corresponding outputs. In addition, they have in the testing sets an input without an output which is shown below for the same example '007bbfb7'"
   ]
  },
  {
   "cell_type": "code",
   "execution_count": 14,
   "id": "b0c36209",
   "metadata": {
    "execution": {
     "iopub.execute_input": "2024-10-03T18:57:05.772130Z",
     "iopub.status.busy": "2024-10-03T18:57:05.771760Z",
     "iopub.status.idle": "2024-10-03T18:57:05.777771Z",
     "shell.execute_reply": "2024-10-03T18:57:05.776664Z"
    },
    "papermill": {
     "duration": 0.017738,
     "end_time": "2024-10-03T18:57:05.780592",
     "exception": false,
     "start_time": "2024-10-03T18:57:05.762854",
     "status": "completed"
    },
    "tags": []
   },
   "outputs": [
    {
     "name": "stdout",
     "output_type": "stream",
     "text": [
      "[[[7, 0, 7, 0, 0, 0, 7, 0, 7],\n",
      "  [7, 0, 7, 0, 0, 0, 7, 0, 7],\n",
      "  [7, 7, 0, 0, 0, 0, 7, 7, 0],\n",
      "  [7, 0, 7, 0, 0, 0, 7, 0, 7],\n",
      "  [7, 0, 7, 0, 0, 0, 7, 0, 7],\n",
      "  [7, 7, 0, 0, 0, 0, 7, 7, 0],\n",
      "  [7, 0, 7, 7, 0, 7, 0, 0, 0],\n",
      "  [7, 0, 7, 7, 0, 7, 0, 0, 0],\n",
      "  [7, 7, 0, 7, 7, 0, 0, 0, 0]]]\n"
     ]
    }
   ],
   "source": [
    "task = training_solutions['007bbfb7']\n",
    "pp = pprint.PrettyPrinter(indent=1)\n",
    "pp.pprint(task)"
   ]
  },
  {
   "cell_type": "code",
   "execution_count": null,
   "id": "e67c6968",
   "metadata": {
    "papermill": {
     "duration": 0.00912,
     "end_time": "2024-10-03T18:57:05.797475",
     "exception": false,
     "start_time": "2024-10-03T18:57:05.788355",
     "status": "completed"
    },
    "tags": []
   },
   "outputs": [],
   "source": []
  }
 ],
 "metadata": {
  "kaggle": {
   "accelerator": "none",
   "dataSources": [
    {
     "databundleVersionId": 8951125,
     "sourceId": 67357,
     "sourceType": "competition"
    }
   ],
   "dockerImageVersionId": 30732,
   "isGpuEnabled": false,
   "isInternetEnabled": true,
   "language": "python",
   "sourceType": "notebook"
  },
  "kernelspec": {
   "display_name": "Python 3",
   "language": "python",
   "name": "python3"
  },
  "language_info": {
   "codemirror_mode": {
    "name": "ipython",
    "version": 3
   },
   "file_extension": ".py",
   "mimetype": "text/x-python",
   "name": "python",
   "nbconvert_exporter": "python",
   "pygments_lexer": "ipython3",
   "version": "3.10.13"
  },
  "papermill": {
   "default_parameters": {},
   "duration": 10.266775,
   "end_time": "2024-10-03T18:57:06.426732",
   "environment_variables": {},
   "exception": null,
   "input_path": "__notebook__.ipynb",
   "output_path": "__notebook__.ipynb",
   "parameters": {},
   "start_time": "2024-10-03T18:56:56.159957",
   "version": "2.5.0"
  }
 },
 "nbformat": 4,
 "nbformat_minor": 5
}
